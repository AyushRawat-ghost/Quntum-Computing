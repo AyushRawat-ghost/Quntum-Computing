{
 "cells": [
  {
   "cell_type": "code",
   "execution_count": 30,
   "id": "61fbf5c7",
   "metadata": {},
   "outputs": [],
   "source": [
    "from qiskit import QuantumCircuit, QuantumRegister, ClassicalRegister\n",
    "from qiskit_aer import AerSimulator\n",
    "from qiskit import transpile\n",
    "import numpy as np\n",
    "\n",
    "# from qiskit.circuit.library import MCX"
   ]
  },
  {
   "cell_type": "code",
   "execution_count": null,
   "id": "85499ce0",
   "metadata": {},
   "outputs": [],
   "source": [
    "#  System setup\n",
    "def grover_oracle(qc,qr,marked_index):\n",
    "    n=len(qr)\n",
    "    controls=[qr[i] for i in range(n) if(marked_index >>i) & i]\n",
    "    if controls :\n",
    "        qc.h(qr[marked_index.bit_length()-1])  # applied h gate to target\n",
    "        qc.mct(controls[:-1],qr[marked_index.bit_length()-1],ancilla_qubits=None)\n",
    "        qc.h(qr[marked_index.bit_length()-1]) # applied h gate to normalize target bit\n",
    "    else:\n",
    "        qc.z(qr[0])"
   ]
  },
  {
   "cell_type": "code",
   "execution_count": 31,
   "id": "84f6b366",
   "metadata": {},
   "outputs": [],
   "source": [
    "def diffusion_op(qc,qr):\n",
    "    n=len(qr)\n",
    "    qc.h(qr)\n",
    "    qc.x(qr)\n",
    "    \n",
    "    qc.h(qr[n-1])\n",
    "    if n>1:\n",
    "    #     mcx=MCX(num_ctrl_qubits=n-1)\n",
    "    #     qc.append(mcx,qr[:n])\n",
    "        qc.mcx(qr[:n-1],qr[n-1])\n",
    "    else:\n",
    "        qc.z(qr[0])\n",
    "    qc.h(qr[n-1])\n",
    "    qc.x(qr)\n",
    "    qc.h(qr)"
   ]
  },
  {
   "cell_type": "code",
   "execution_count": 34,
   "id": "50141f9a",
   "metadata": {},
   "outputs": [],
   "source": [
    "def grover_algorithm(marked_index,n_qubits,iterations):\n",
    "    qr=QuantumRegister(n_qubits,'q')\n",
    "    cr=ClassicalRegister(n_qubits,'c')\n",
    "    qc=QuantumCircuit(qr,cr,name='grover')\n",
    "    \n",
    "    qc.h(qr)\n",
    "    for _ in range(iterations):\n",
    "        grover_oracle(qc,qr,marked_index)\n",
    "        diffusion_op(qc,qr)\n",
    "    \n",
    "    qc.measure(qr,cr)\n",
    "    return qc"
   ]
  },
  {
   "cell_type": "code",
   "execution_count": null,
   "id": "1a0b875b",
   "metadata": {},
   "outputs": [
    {
     "name": "stdout",
     "output_type": "stream",
     "text": [
      "Measurement counts: {'101': 144, '100': 133, '001': 115, '010': 139, '111': 118, '000': 136, '110': 117, '011': 122}\n"
     ]
    }
   ],
   "source": [
    "n_qubits = 3\n",
    "marked_index = 5\n",
    "iterations = int(np.pi / 4 * np.sqrt(2**n_qubits))\n",
    "grover_circuit = grover_algorithm(marked_index, n_qubits, iterations)\n",
    "simulator = AerSimulator()\n",
    "\n",
    "compiled_circuit = transpile(grover_circuit, simulator)\n",
    "job = simulator.run(compiled_circuit, shots=1024)\n",
    "result = job.result()\n",
    "counts = result.get_counts(grover_circuit)\n",
    "print(\"Measurement counts:\", counts)"
   ]
  },
  {
   "cell_type": "code",
   "execution_count": null,
   "id": "f01ab842",
   "metadata": {},
   "outputs": [
    {
     "ename": "AttributeError",
     "evalue": "'QuantumCircuit' object has no attribute 'mct'",
     "output_type": "error",
     "traceback": [
      "\u001b[1;31m---------------------------------------------------------------------------\u001b[0m",
      "\u001b[1;31mAttributeError\u001b[0m                            Traceback (most recent call last)",
      "Cell \u001b[1;32mIn[39], line 66\u001b[0m\n\u001b[0;32m     64\u001b[0m \u001b[38;5;66;03m# Apply Grover iterations\u001b[39;00m\n\u001b[0;32m     65\u001b[0m \u001b[38;5;28;01mfor\u001b[39;00m _ \u001b[38;5;129;01min\u001b[39;00m \u001b[38;5;28mrange\u001b[39m(iterations):\n\u001b[1;32m---> 66\u001b[0m     grover_qc\u001b[38;5;241m.\u001b[39mcompose(oracle(n_qubits, marked_state), qr, inplace\u001b[38;5;241m=\u001b[39m\u001b[38;5;28;01mTrue\u001b[39;00m)\n\u001b[0;32m     67\u001b[0m     grover_qc\u001b[38;5;241m.\u001b[39mcompose(diffuser(n_qubits), qr, inplace\u001b[38;5;241m=\u001b[39m\u001b[38;5;28;01mTrue\u001b[39;00m)\n\u001b[0;32m     69\u001b[0m \u001b[38;5;66;03m# Measure\u001b[39;00m\n",
      "Cell \u001b[1;32mIn[39], line 41\u001b[0m, in \u001b[0;36moracle\u001b[1;34m(nqubits, marked_state)\u001b[0m\n\u001b[0;32m     39\u001b[0m qc\u001b[38;5;241m.\u001b[39mh(nqubits \u001b[38;5;241m-\u001b[39m \u001b[38;5;241m1\u001b[39m)\n\u001b[0;32m     40\u001b[0m \u001b[38;5;28;01mif\u001b[39;00m nqubits \u001b[38;5;241m>\u001b[39m \u001b[38;5;241m2\u001b[39m:\n\u001b[1;32m---> 41\u001b[0m     qc\u001b[38;5;241m.\u001b[39mmct(\u001b[38;5;28mlist\u001b[39m(\u001b[38;5;28mrange\u001b[39m(nqubits \u001b[38;5;241m-\u001b[39m \u001b[38;5;241m1\u001b[39m)), nqubits \u001b[38;5;241m-\u001b[39m \u001b[38;5;241m1\u001b[39m)\n\u001b[0;32m     42\u001b[0m \u001b[38;5;28;01melif\u001b[39;00m nqubits \u001b[38;5;241m==\u001b[39m \u001b[38;5;241m2\u001b[39m:\n\u001b[0;32m     43\u001b[0m     qc\u001b[38;5;241m.\u001b[39mcx(\u001b[38;5;241m0\u001b[39m, \u001b[38;5;241m1\u001b[39m)\n",
      "\u001b[1;31mAttributeError\u001b[0m: 'QuantumCircuit' object has no attribute 'mct'"
     ]
    }
   ],
   "source": []
  }
 ],
 "metadata": {
  "kernelspec": {
   "display_name": "Naitika",
   "language": "python",
   "name": "python3"
  },
  "language_info": {
   "codemirror_mode": {
    "name": "ipython",
    "version": 3
   },
   "file_extension": ".py",
   "mimetype": "text/x-python",
   "name": "python",
   "nbconvert_exporter": "python",
   "pygments_lexer": "ipython3",
   "version": "3.13.2"
  }
 },
 "nbformat": 4,
 "nbformat_minor": 5
}
