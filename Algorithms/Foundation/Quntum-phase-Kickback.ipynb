{
 "cells": [
  {
   "cell_type": "code",
   "execution_count": 2,
   "id": "9032cf5b",
   "metadata": {},
   "outputs": [],
   "source": [
    "from qiskit import QuantumCircuit\n",
    "from qiskit_aer import AerSimulator\n",
    "from qiskit import transpile\n",
    "# from qiskit.visulaization import plot_histogram"
   ]
  },
  {
   "cell_type": "code",
   "execution_count": 15,
   "id": "c106b76e",
   "metadata": {},
   "outputs": [],
   "source": [
    "def counts(circuit,shot=1024):\n",
    "    simulator=AerSimulator()\n",
    "    compiled_circuit=transpile(circuit,simulator)\n",
    "    job=simulator.run(compiled_circuit,shots=shot)\n",
    "    result=job.result()\n",
    "    counts=result.get_counts(circuit)\n",
    "    return counts"
   ]
  },
  {
   "cell_type": "code",
   "execution_count": 28,
   "id": "0662cdde",
   "metadata": {},
   "outputs": [],
   "source": [
    "def phase_kickback(op,target_state):\n",
    "    qc=QuantumCircuit(2,1)\n",
    "    qc.h(0)\n",
    "    \n",
    "    # Preparing target bits in eigenstate\n",
    "    if target_state=='1':\n",
    "        qc.x(1)\n",
    "    elif target_state!='0':\n",
    "        raise ValueError(\"Target must be 0 or 1\")\n",
    "    qc.barrier()\n",
    "    \n",
    "    # Controlled-U\n",
    "    if op.lower()=='z':\n",
    "        qc.cz(0,1)\n",
    "    elif op.lower()=='id':\n",
    "        identity_qc = QuantumCircuit(1, name='id')\n",
    "        identity_instruction = identity_qc.to_instruction()\n",
    "        qc.append(identity_instruction, [1])\n",
    "        qc.cx(0, 1)\n",
    "    else:\n",
    "        raise ValueError(\"Op must be z or id\")\n",
    "    qc.barrier()\n",
    "    \n",
    "    # Hadamard gate to control bit\n",
    "    qc.h(0)\n",
    "    qc.measure(0,0)\n",
    "    print(qc)\n",
    "    return qc"
   ]
  },
  {
   "cell_type": "code",
   "execution_count": 29,
   "id": "402ac2b5",
   "metadata": {},
   "outputs": [
    {
     "name": "stdout",
     "output_type": "stream",
     "text": [
      "     ┌───┐ ░     ░ ┌───┐┌─┐\n",
      "q_0: ┤ H ├─░──■──░─┤ H ├┤M├\n",
      "     └───┘ ░  │  ░ └───┘└╥┘\n",
      "q_1: ──────░──■──░───────╫─\n",
      "           ░     ░       ║ \n",
      "c: 1/════════════════════╩═\n",
      "                         0 \n",
      "Result Z-gate for 0 :  {'0': 1024}\n"
     ]
    }
   ],
   "source": [
    "circuit_z=phase_kickback('z','0')\n",
    "countsz=counts(circuit_z)\n",
    "print(\"Result Z-gate for 0 : \",countsz)"
   ]
  },
  {
   "cell_type": "code",
   "execution_count": 30,
   "id": "86199ab6",
   "metadata": {},
   "outputs": [
    {
     "name": "stdout",
     "output_type": "stream",
     "text": [
      "     ┌───┐ ░     ░ ┌───┐┌─┐\n",
      "q_0: ┤ H ├─░──■──░─┤ H ├┤M├\n",
      "     ├───┤ ░  │  ░ └───┘└╥┘\n",
      "q_1: ┤ X ├─░──■──░───────╫─\n",
      "     └───┘ ░     ░       ║ \n",
      "c: 1/════════════════════╩═\n",
      "                         0 \n",
      "Result Z-gate for:  {'1': 1024}\n"
     ]
    }
   ],
   "source": [
    "circuit_z=phase_kickback('z','1')\n",
    "countsz=counts(circuit_z)\n",
    "print(\"Result Z-gate for: \",countsz)"
   ]
  },
  {
   "cell_type": "code",
   "execution_count": 31,
   "id": "282a0309",
   "metadata": {},
   "outputs": [
    {
     "name": "stdout",
     "output_type": "stream",
     "text": [
      "     ┌───┐ ░             ░ ┌───┐┌─┐\n",
      "q_0: ┤ H ├─░─────────■───░─┤ H ├┤M├\n",
      "     └───┘ ░ ┌────┐┌─┴─┐ ░ └───┘└╥┘\n",
      "q_1: ──────░─┤ id ├┤ X ├─░───────╫─\n",
      "           ░ └────┘└───┘ ░       ║ \n",
      "c: 1/════════════════════════════╩═\n",
      "                                 0 \n",
      "Result ID-gate for 0:  {'0': 503, '1': 521}\n"
     ]
    }
   ],
   "source": [
    "circuit_id=phase_kickback('id','0')\n",
    "countsid=counts(circuit_id)\n",
    "print(\"Result ID-gate for 0: \",countsid)"
   ]
  },
  {
   "cell_type": "code",
   "execution_count": 32,
   "id": "b7881ae9",
   "metadata": {},
   "outputs": [
    {
     "name": "stdout",
     "output_type": "stream",
     "text": [
      "     ┌───┐ ░             ░ ┌───┐┌─┐\n",
      "q_0: ┤ H ├─░─────────■───░─┤ H ├┤M├\n",
      "     ├───┤ ░ ┌────┐┌─┴─┐ ░ └───┘└╥┘\n",
      "q_1: ┤ X ├─░─┤ id ├┤ X ├─░───────╫─\n",
      "     └───┘ ░ └────┘└───┘ ░       ║ \n",
      "c: 1/════════════════════════════╩═\n",
      "                                 0 \n",
      "Result ID-gate for 1:  {'1': 505, '0': 519}\n"
     ]
    }
   ],
   "source": [
    "circuit_id=phase_kickback('id','1')\n",
    "countsid=counts(circuit_id)\n",
    "print(\"Result ID-gate for 1: \",countsid)"
   ]
  }
 ],
 "metadata": {
  "kernelspec": {
   "display_name": "Naitika",
   "language": "python",
   "name": "python3"
  },
  "language_info": {
   "codemirror_mode": {
    "name": "ipython",
    "version": 3
   },
   "file_extension": ".py",
   "mimetype": "text/x-python",
   "name": "python",
   "nbconvert_exporter": "python",
   "pygments_lexer": "ipython3",
   "version": "3.13.2"
  }
 },
 "nbformat": 4,
 "nbformat_minor": 5
}
