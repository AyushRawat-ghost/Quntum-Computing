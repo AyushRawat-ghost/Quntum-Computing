{
 "cells": [
  {
   "cell_type": "code",
   "execution_count": null,
   "id": "5481bc64",
   "metadata": {},
   "outputs": [],
   "source": [
    "from qiskit import QuantumCircuit\n",
    "from qiskit_aer import AerSimulator\n",
    "from qiskit import transpile\n",
    "from qiskit.providers.basic_provider import BasicSimulator"
   ]
  },
  {
   "cell_type": "code",
   "execution_count": 6,
   "id": "12f9ee3d",
   "metadata": {},
   "outputs": [],
   "source": [
    "def bernstein_vazirani_algorithm(secret_str):\n",
    "    n=len(secret_str)\n",
    "    qc=QuantumCircuit(n+1,n)\n",
    "    \n",
    "    # Intilaize auxilary qubit to \\1>\n",
    "    qc.x(n)\n",
    "    # Apply hadamard gate\n",
    "    qc.h(range(n+1))\n",
    "    \n",
    "    # Implement oracle (Quantum state system)\n",
    "    for i in range(n):\n",
    "        if secret_str[i]=='1':\n",
    "            qc.cx(i,n)\n",
    "    \n",
    "    # apply hadamard gate\n",
    "    qc.h(range(n))\n",
    "    \n",
    "    qc.measure(range(n),range(n))\n",
    "    \n",
    "    return qc"
   ]
  },
  {
   "cell_type": "code",
   "execution_count": 22,
   "id": "c14d55dd",
   "metadata": {},
   "outputs": [],
   "source": [
    "def counts(circuit):\n",
    "    simulator=AerSimulator()\n",
    "    compiled_circuit=transpile(circuit,simulator)\n",
    "    job=simulator.run(compiled_circuit,shots=1024)\n",
    "    result=job.result()\n",
    "    counts=dict(result.get_counts(circuit))\n",
    "    return counts"
   ]
  },
  {
   "cell_type": "code",
   "execution_count": 24,
   "id": "9b8ccc36",
   "metadata": {},
   "outputs": [],
   "source": [
    "def get_secret(counts):\n",
    "    return max(counts,key=counts.get)[::-1]"
   ]
  },
  {
   "cell_type": "code",
   "execution_count": 29,
   "id": "78f172ba",
   "metadata": {},
   "outputs": [
    {
     "name": "stdout",
     "output_type": "stream",
     "text": [
      "Measurement count :  {'0111010': 1024}\n",
      "Secret String :  0101110\n",
      "Tru secret string :  0101110\n"
     ]
    }
   ],
   "source": [
    "secret_str=\"0101110\"\n",
    "\n",
    "bv=bernstein_vazirani_algorithm(secret_str)\n",
    "count=counts(bv)\n",
    "print(\"Measurement count : \",count)\n",
    "\n",
    "measure_str=get_secret(count)\n",
    "print(\"Secret String : \",measure_str)\n",
    "print(\"Tru secret string : \",secret_str)"
   ]
  },
  {
   "cell_type": "code",
   "execution_count": null,
   "id": "260087ad",
   "metadata": {},
   "outputs": [
    {
     "name": "stdout",
     "output_type": "stream",
     "text": [
      "Measurement count :  {'01101': 1024}\n",
      "Secret String (Reversed):  01101\n",
      "True secret string (Reversed):  01101\n",
      "True secret string (Original):  10110\n"
     ]
    }
   ],
   "source": []
  },
  {
   "cell_type": "code",
   "execution_count": null,
   "id": "06bb2c43",
   "metadata": {},
   "outputs": [
    {
     "name": "stdout",
     "output_type": "stream",
     "text": [
      "Measurement count :  {'01101': 1024}\n",
      "Secret String (Original Order):  10110\n",
      "True secret string (Original):  10110\n"
     ]
    }
   ],
   "source": []
  }
 ],
 "metadata": {
  "kernelspec": {
   "display_name": "Naitika",
   "language": "python",
   "name": "python3"
  },
  "language_info": {
   "codemirror_mode": {
    "name": "ipython",
    "version": 3
   },
   "file_extension": ".py",
   "mimetype": "text/x-python",
   "name": "python",
   "nbconvert_exporter": "python",
   "pygments_lexer": "ipython3",
   "version": "3.13.2"
  }
 },
 "nbformat": 4,
 "nbformat_minor": 5
}
