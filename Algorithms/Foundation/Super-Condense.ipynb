{
 "cells": [
  {
   "cell_type": "code",
   "execution_count": 3,
   "id": "b0f2c359",
   "metadata": {},
   "outputs": [],
   "source": [
    "from qiskit import QuantumCircuit\n",
    "from qiskit_aer import AerSimulator\n",
    "from qiskit import transpile\n"
   ]
  },
  {
   "cell_type": "code",
   "execution_count": 4,
   "id": "d88b1fc5",
   "metadata": {},
   "outputs": [],
   "source": [
    "def counts(circuit,shot=1024):\n",
    "    simulator=AerSimulator()\n",
    "    compiled_circuit=transpile(circuit,simulator)\n",
    "    job=simulator.run(compiled_circuit,shots=shot)\n",
    "    result=job.result()\n",
    "    counts=result.get_counts(circuit)\n",
    "    return counts"
   ]
  },
  {
   "cell_type": "code",
   "execution_count": 7,
   "id": "492bbe62",
   "metadata": {},
   "outputs": [],
   "source": [
    "def superdense(sender_bits):\n",
    "    qc=QuantumCircuit(2,2) # 2 qubits (Sender q0, Receiver q1),2 classic bits\n",
    "    # Bell state\n",
    "    qc.h(0)\n",
    "    qc.cx(0,1)\n",
    "    qc.barrier()\n",
    "    \n",
    "    # Senders coding\n",
    "    if sender_bits=='00':\n",
    "        pass\n",
    "    elif sender_bits=='01':\n",
    "        qc.x(0)\n",
    "    elif sender_bits=='10':\n",
    "        qc.z(0)\n",
    "    elif sender_bits=='11':\n",
    "        qc.x(0)\n",
    "        qc.z(0)\n",
    "    else :\n",
    "        raise ValueError(\"Invalid input\")\n",
    "    qc.barrier()\n",
    "    \n",
    "    # Receivers Decoding\n",
    "    qc.cx(1,0)\n",
    "    qc.h(1)\n",
    "    qc.barrier()\n",
    "    \n",
    "    # Receiver Measurement\n",
    "    qc.measure([0,1],[0,1])\n",
    "    count=counts(qc)\n",
    "    return count"
   ]
  },
  {
   "cell_type": "code",
   "execution_count": 8,
   "id": "b2f45c7e",
   "metadata": {},
   "outputs": [
    {
     "name": "stdout",
     "output_type": "stream",
     "text": [
      "Sender msg :  00 Receivers message :  {'00': 1024}\n",
      "Sender msg :  01 Receivers message :  {'01': 1024}\n",
      "Sender msg :  10 Receivers message :  {'10': 1024}\n",
      "Sender msg :  11 Receivers message :  {'11': 1024}\n"
     ]
    }
   ],
   "source": [
    "msgs=['00','01','10','11']\n",
    "for msg in msgs:\n",
    "    result=superdense(msg)\n",
    "    print(\"Sender msg : \",msg,\"Receivers message : \",result)\n",
    "    "
   ]
  },
  {
   "cell_type": "code",
   "execution_count": null,
   "id": "d1274375",
   "metadata": {},
   "outputs": [],
   "source": []
  }
 ],
 "metadata": {
  "kernelspec": {
   "display_name": "Naitika",
   "language": "python",
   "name": "python3"
  },
  "language_info": {
   "codemirror_mode": {
    "name": "ipython",
    "version": 3
   },
   "file_extension": ".py",
   "mimetype": "text/x-python",
   "name": "python",
   "nbconvert_exporter": "python",
   "pygments_lexer": "ipython3",
   "version": "3.13.2"
  }
 },
 "nbformat": 4,
 "nbformat_minor": 5
}
