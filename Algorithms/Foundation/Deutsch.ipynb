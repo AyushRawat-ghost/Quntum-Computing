{
 "cells": [
  {
   "cell_type": "code",
   "execution_count": 132,
   "id": "b81aa664",
   "metadata": {},
   "outputs": [],
   "source": [
    "from qiskit import QuantumCircuit\n",
    "from qiskit_aer import AerSimulator\n"
   ]
  },
  {
   "cell_type": "code",
   "execution_count": 133,
   "id": "a5fd95e9",
   "metadata": {},
   "outputs": [],
   "source": [
    "#########Deutsch Oracle\n",
    "def oracle(qc,secret_func):\n",
    "    if secret_func==\"constant_0\":\n",
    "        pass\n",
    "    elif secret_func==\"constant_1\":\n",
    "        qc.x(1)\n",
    "    elif secret_func==\"balanced_01\":\n",
    "        qc.cx(0,1)\n",
    "    elif secret_func==\"balanced_10\":\n",
    "        qc.x(0)\n",
    "        qc.cx(0,1)\n",
    "        qc.x(0)\n",
    "    else:\n",
    "        raise ValueError(\"Invalid Choice Bro\")"
   ]
  },
  {
   "cell_type": "code",
   "execution_count": 134,
   "id": "960925f8",
   "metadata": {},
   "outputs": [],
   "source": [
    "def desutsch_algo(secret_func,seed=42):\n",
    "    qc=QuantumCircuit(2,1)\n",
    "    qc.x(1)\n",
    "    qc.h([0,1])\n",
    "    oracle(qc,secret_func)\n",
    "    qc.h(0)\n",
    "    qc.measure(0,0)\n",
    "    simulator=AerSimulator(seed_simulator=seed)\n",
    "    job=simulator.run(qc,shots=1)\n",
    "    result=job.result()\n",
    "    counts=result.get_counts(qc)\n",
    "    \n",
    "    if '0' in counts:\n",
    "        return \"Constant\"\n",
    "    else:\n",
    "        return \"Balanced\""
   ]
  },
  {
   "cell_type": "code",
   "execution_count": 135,
   "id": "57ed9160",
   "metadata": {},
   "outputs": [
    {
     "name": "stdout",
     "output_type": "stream",
     "text": [
      "Function constant_0 is :  Constant\n",
      "Function constant_1 is :  Constant\n",
      "Function balanced_01 is :  Balanced\n",
      "Function balanced_10 is :  Balanced\n"
     ]
    }
   ],
   "source": [
    "if __name__ == \"__main__\":\n",
    "    secret_func=[\"constant_0\",\"constant_1\",\"balanced_01\",\"balanced_10\"]\n",
    "    \n",
    "    for secret_function in secret_func:\n",
    "        result=desutsch_algo(secret_function)\n",
    "        print(f\"Function {secret_function} is :  {result}\")"
   ]
  }
 ],
 "metadata": {
  "kernelspec": {
   "display_name": "Naitika",
   "language": "python",
   "name": "python3"
  },
  "language_info": {
   "codemirror_mode": {
    "name": "ipython",
    "version": 3
   },
   "file_extension": ".py",
   "mimetype": "text/x-python",
   "name": "python",
   "nbconvert_exporter": "python",
   "pygments_lexer": "ipython3",
   "version": "3.13.2"
  }
 },
 "nbformat": 4,
 "nbformat_minor": 5
}
