{
 "cells": [
  {
   "cell_type": "code",
   "execution_count": null,
   "id": "1ac2127b",
   "metadata": {},
   "outputs": [],
   "source": [
    "from qiskit import QuantumCircuit, QuantumRegister, ClassicalRegister\n",
    "from qiskit_aer import AerSimulator\n",
    "from qiskit import transpile"
   ]
  },
  {
   "cell_type": "code",
   "execution_count": null,
   "id": "845ebb93",
   "metadata": {},
   "outputs": [],
   "source": [
    "# Implements deustsch-Jozsa Algorithm\n",
    "def deutsch_jozsa_algorithm(oracle_func,n):\n",
    "    qr=QuantumRegister(n,'q')\n",
    "    aux=QuantumRegister(1,'aux')\n",
    "    cr=ClassicalRegister(n,'c')\n",
    "    qc=QuantumCircuit(qr,aux,cr,name='dj_algorithm')\n",
    "    \n",
    "    qc.x(aux[0])\n",
    "    \n",
    "    qc.h(qr)\n",
    "    qc.h(aux[0])\n",
    "    \n",
    "    oracle_func(qc,qr,aux)\n",
    "    \n",
    "    qc.h(qr)\n",
    "    qc.measure(qr,cr)\n",
    "    \n",
    "    return qc\n",
    "\n"
   ]
  },
  {
   "cell_type": "code",
   "execution_count": null,
   "id": "6256dc23",
   "metadata": {},
   "outputs": [],
   "source": [
    "# Constant function\n",
    "def constant_oracle0(qc,q,aux):\n",
    "    pass"
   ]
  },
  {
   "cell_type": "code",
   "execution_count": 16,
   "id": "b66eefd0",
   "metadata": {},
   "outputs": [],
   "source": [
    "def constant_oracle1(qc,q,aux):\n",
    "    qc.x(aux[0])"
   ]
  },
  {
   "cell_type": "code",
   "execution_count": null,
   "id": "27c14d4e",
   "metadata": {},
   "outputs": [],
   "source": [
    "# Balanced function\n",
    "def balanced_oracle_parity(qc,q,aux):\n",
    "    for i in range(len(q)):\n",
    "        qc.cx(q[i],aux[0])"
   ]
  },
  {
   "cell_type": "code",
   "execution_count": null,
   "id": "cf8f06da",
   "metadata": {},
   "outputs": [],
   "source": [
    "def balanced_oracle_specific_corrected(qc, q, aux):\n",
    "    qc.ccx(q[0], q[1], aux[0])\n",
    "    qc.cx(q[2], aux[0])\n",
    "    qc.cx(q[1], aux[0])\n",
    "    qc.cx(q[0], aux[0])"
   ]
  },
  {
   "cell_type": "code",
   "execution_count": 14,
   "id": "de624235",
   "metadata": {},
   "outputs": [],
   "source": [
    "# Runs deustsch-Jozsa Algorithm\n",
    "def run_deutsch_jozsa(oracle_func,n,shots=1024):\n",
    "    constant_circuit=deutsch_jozsa_algorithm(constant_oracle0,n)\n",
    "    simulator=AerSimulator()\n",
    "    compiled_circuit=transpile(constant_circuit,simulator)\n",
    "    job=simulator.run(compiled_circuit,shots=1024)\n",
    "    result=job.result()\n",
    "    counts=result.get_counts(constant_circuit)\n",
    "    return counts"
   ]
  },
  {
   "cell_type": "code",
   "execution_count": null,
   "id": "e16f4c1d",
   "metadata": {},
   "outputs": [
    {
     "name": "stdout",
     "output_type": "stream",
     "text": [
      "Result for constant function (f(x) = 0): {'000': 1024}\n",
      "Result for constant function (f(x) = 1): {'000': 1024}\n",
      "Result for balanced function (parity): {'000': 1024}\n",
      "Result for balanced function (specific): {'000': 1024}\n"
     ]
    }
   ],
   "source": [
    "n = 3\n",
    "\n",
    "# Run for a constant function (f(x) = 0)\n",
    "counts_constant0 = run_deutsch_jozsa(constant_oracle0, n)\n",
    "print(f\"Result for constant function (f(x) = 0): {counts_constant0}\")\n",
    "\n",
    "# Run for another constant function (f(x) = 1)\n",
    "counts_constant1 = run_deutsch_jozsa(constant_oracle1, n)\n",
    "print(f\"Result for constant function (f(x) = 1): {counts_constant1}\")\n",
    "\n",
    "# Run for a balanced function (parity)\n",
    "counts_balanced_parity = run_deutsch_jozsa(balanced_oracle_parity, n)\n",
    "print(f\"Result for balanced function (parity): {counts_balanced_parity}\")\n",
    "\n",
    "# # Run for another balanced function (specific)\n",
    "# counts_balanced_specific = run_deutsch_jozsa(balanced_oracle_specific, n)\n",
    "# print(f\"Result for balanced function (specific): {counts_balanced_specific}\")"
   ]
  },
  {
   "cell_type": "code",
   "execution_count": null,
   "id": "97918357",
   "metadata": {},
   "outputs": [
    {
     "name": "stdout",
     "output_type": "stream",
     "text": [
      "Result for balanced function (specific corrected): {'000': 1024}\n"
     ]
    }
   ],
   "source": []
  },
  {
   "cell_type": "code",
   "execution_count": null,
   "id": "e0ff5a3e",
   "metadata": {},
   "outputs": [
    {
     "name": "stdout",
     "output_type": "stream",
     "text": [
      "Counts for auxiliary qubit after balanced parity oracle:\n",
      "{'1': 524, '0': 500}\n"
     ]
    }
   ],
   "source": [
    "# from qiskit import QuantumCircuit, QuantumRegister, ClassicalRegister\n",
    "# from qiskit_aer import AerSimulator\n",
    "# from qiskit import transpile\n",
    "\n",
    "# n = 3\n",
    "# qr = QuantumRegister(n, 'q')\n",
    "# aux = QuantumRegister(1, 'aux')\n",
    "# cr_aux = ClassicalRegister(1, 'c_aux')\n",
    "# qc_oracle_test = QuantumCircuit(qr, aux, cr_aux)\n",
    "\n",
    "# qc_oracle_test.x(aux[0])\n",
    "# qc_oracle_test.h(qr)\n",
    "# qc_oracle_test.h(aux[0])\n",
    "\n",
    "# # Apply the balanced parity oracle\n",
    "# for i in range(n):\n",
    "#     qc_oracle_test.cx(qr[i], aux[0])\n",
    "# qc_oracle_test.measure(aux[0], cr_aux[0])\n",
    "\n",
    "# simulator = AerSimulator()\n",
    "# compiled_oracle_test = transpile(qc_oracle_test, simulator)\n",
    "# job_oracle_test = simulator.run(compiled_oracle_test, shots=1024)\n",
    "# result_oracle_test = job_oracle_test.result()\n",
    "# counts_oracle_test = result_oracle_test.get_counts(qc_oracle_test)\n",
    "\n",
    "# print(\"Counts for auxiliary qubit after balanced parity oracle:\")\n",
    "# print(counts_oracle_test)"
   ]
  }
 ],
 "metadata": {
  "kernelspec": {
   "display_name": "Naitika",
   "language": "python",
   "name": "python3"
  },
  "language_info": {
   "codemirror_mode": {
    "name": "ipython",
    "version": 3
   },
   "file_extension": ".py",
   "mimetype": "text/x-python",
   "name": "python",
   "nbconvert_exporter": "python",
   "pygments_lexer": "ipython3",
   "version": "3.13.2"
  }
 },
 "nbformat": 4,
 "nbformat_minor": 5
}
