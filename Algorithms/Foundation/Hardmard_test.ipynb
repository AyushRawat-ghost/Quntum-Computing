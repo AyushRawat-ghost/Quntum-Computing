{
 "cells": [
  {
   "cell_type": "code",
   "execution_count": null,
   "id": "2fa8aa28",
   "metadata": {},
   "outputs": [],
   "source": [
    "from qiskit import QuantumCircuit\n",
    "from qiskit_aer import AerSimulator\n",
    "from qiskit import transpile"
   ]
  },
  {
   "cell_type": "code",
   "execution_count": null,
   "id": "0f3d8158",
   "metadata": {},
   "outputs": [],
   "source": [
    "def counts(circuit,shot=1024):\n",
    "    simulator=AerSimulator()\n",
    "    compiled_circuit=transpile(circuit,simulator)\n",
    "    job=simulator.run(compiled_circuit,shots=shot)\n",
    "    result=job.result()\n",
    "    counts=result.get_counts(circuit)\n",
    "    return counts"
   ]
  },
  {
   "cell_type": "code",
   "execution_count": 44,
   "id": "4c1e9a39",
   "metadata": {},
   "outputs": [],
   "source": [
    "def hadamard_test(op,init_state,shot=1024):\n",
    "    target=op.num_qubits\n",
    "    qc=QuantumCircuit(1+target,1)\n",
    "    \n",
    "    # Preparing initital state |psi> on target qubits\n",
    "    qc.compose(init_state,qubits=range(1,1+target),inplace=True)\n",
    "    \n",
    "    # Hadamard gate\n",
    "    qc.h(0)\n",
    "    \n",
    "    # Controlled-U\n",
    "    controlled_u=op.control(1)\n",
    "    qc.append(controlled_u,[0]+list(range(1,1+target)))\n",
    "    \n",
    "    # Hadamard gate\n",
    "    qc.h(0)\n",
    "    \n",
    "    # Measuring the control bit\n",
    "    qc.measure(0,0)\n",
    "    \n",
    "    simulator = AerSimulator()\n",
    "    compiled_circuit = transpile(qc, simulator)\n",
    "    job = simulator.run(compiled_circuit, shots=shot)\n",
    "    result = job.result()\n",
    "    counts = result.get_counts(qc)\n",
    "    prob0=counts.get('0',0)/shot\n",
    "    \n",
    "    real_expectation_value=2*prob0-1\n",
    "    return real_expectation_value"
   ]
  },
  {
   "cell_type": "code",
   "execution_count": 45,
   "id": "8b84f5d2",
   "metadata": {},
   "outputs": [
    {
     "name": "stdout",
     "output_type": "stream",
     "text": [
      "Estimated Real Part (Z-gate):  1.0\n"
     ]
    }
   ],
   "source": [
    "initial_state_circuit1 = QuantumCircuit(1)\n",
    "\n",
    "# Unitary operator U = Z gate (on one qubit)\n",
    "unitary_Z = QuantumCircuit(1, name='Z')\n",
    "unitary_Z.z(0)\n",
    "\n",
    "#  Hadamard test\n",
    "estimated_real_part = hadamard_test(unitary_Z, initial_state_circuit1,shot=10000)\n",
    "\n",
    "print(\"Estimated Real Part (Z-gate): \",estimated_real_part)\n"
   ]
  },
  {
   "cell_type": "code",
   "execution_count": 46,
   "id": "99e68479",
   "metadata": {},
   "outputs": [
    {
     "name": "stdout",
     "output_type": "stream",
     "text": [
      "Estimated Real Part (X-gate) :  0.0020000000000000018\n"
     ]
    }
   ],
   "source": [
    "initial_state_circuit = QuantumCircuit(1)\n",
    "\n",
    "# Unitary operator U = X gate \n",
    "unitary_U = QuantumCircuit(1, name='X')\n",
    "unitary_U.x(0)\n",
    "\n",
    "#  Hadamard test\n",
    "estimated_real_part = hadamard_test(unitary_U, initial_state_circuit, shot=10000)\n",
    "\n",
    "print(\"Estimated Real Part (X-gate) : \",estimated_real_part)\n"
   ]
  },
  {
   "cell_type": "code",
   "execution_count": 47,
   "id": "07fe5414",
   "metadata": {},
   "outputs": [
    {
     "name": "stdout",
     "output_type": "stream",
     "text": [
      "Estimated Real Part (H-gate) :  0.6934\n"
     ]
    }
   ],
   "source": [
    "initial_state_circuit = QuantumCircuit(1)\n",
    "\n",
    "# Unitary operator U = hadamard gate \n",
    "unitary_U = QuantumCircuit(1, name='X')\n",
    "unitary_U.h(0)\n",
    "\n",
    "#  Hadamard test\n",
    "estimated_real_part = hadamard_test(unitary_U, initial_state_circuit, shot=10000)\n",
    "\n",
    "print(\"Estimated Real Part (H-gate) : \",estimated_real_part)\n"
   ]
  },
  {
   "cell_type": "code",
   "execution_count": 26,
   "id": "5b99df45",
   "metadata": {},
   "outputs": [
    {
     "name": "stdout",
     "output_type": "stream",
     "text": [
      "Estimated Real Part (Z-gate): 1.0\n",
      "True Real Part of <0|Z|0>: 1.0\n"
     ]
    }
   ],
   "source": [
    "\n",
    "\n",
    "def hadamard_test(unitary_operator, initial_state, num_shots=1024):\n",
    "    n_target_qubits = unitary_operator.num_qubits\n",
    "    qc = QuantumCircuit(1 + n_target_qubits, 1)\n",
    "\n",
    "    qc.compose(initial_state, qubits=range(1, 1 + n_target_qubits), inplace=True)\n",
    "    qc.h(0)\n",
    "    controlled_U = unitary_operator.control(1)\n",
    "    qc.append(controlled_U, [0] + list(range(1, 1 + n_target_qubits)))\n",
    "    qc.h(0)\n",
    "    qc.measure(0, 0)\n",
    "\n",
    "    simulator = AerSimulator()\n",
    "    compiled_circuit = transpile(qc, simulator)\n",
    "    job = simulator.run(compiled_circuit, shots=num_shots)\n",
    "    result = job.result()\n",
    "    counts = result.get_counts(qc)\n",
    "\n",
    "    prob_zero = counts.get('0', 0) / num_shots\n",
    "    real_expectation_value = 2 * prob_zero - 1\n",
    "    return real_expectation_value\n",
    "\n",
    "# Initial state |psi> = |0>\n",
    "initial_state_circuit = QuantumCircuit(1)\n",
    "\n",
    "# Unitary operator U = Z\n",
    "unitary_Z = QuantumCircuit(1, name='Z')\n",
    "unitary_Z.z(0)\n",
    "estimated_real_part_Z = hadamard_test(unitary_Z, initial_state_circuit, num_shots=10000)\n",
    "print(f\"Estimated Real Part (Z-gate): {estimated_real_part_Z}\")\n",
    "print(f\"True Real Part of <0|Z|0>: 1.0\")"
   ]
  },
  {
   "cell_type": "code",
   "execution_count": null,
   "id": "64d43909",
   "metadata": {},
   "outputs": [],
   "source": []
  }
 ],
 "metadata": {
  "kernelspec": {
   "display_name": "Naitika",
   "language": "python",
   "name": "python3"
  },
  "language_info": {
   "codemirror_mode": {
    "name": "ipython",
    "version": 3
   },
   "file_extension": ".py",
   "mimetype": "text/x-python",
   "name": "python",
   "nbconvert_exporter": "python",
   "pygments_lexer": "ipython3",
   "version": "3.13.2"
  }
 },
 "nbformat": 4,
 "nbformat_minor": 5
}
