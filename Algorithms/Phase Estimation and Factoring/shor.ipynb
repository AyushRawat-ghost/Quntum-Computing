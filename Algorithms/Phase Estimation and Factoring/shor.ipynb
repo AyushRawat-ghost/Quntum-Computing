{
 "cells": [
  {
   "cell_type": "code",
   "execution_count": 2,
   "id": "5ac03181",
   "metadata": {},
   "outputs": [],
   "source": [
    "import numpy as np\n",
    "import math\n",
    "from fractions import Fraction\n",
    "from qiskit import QuantumCircuit, QuantumRegister, ClassicalRegister\n",
    "from qiskit_aer import AerSimulator\n",
    "from qiskit import transpile\n",
    "from qiskit.circuit.library import QFT"
   ]
  },
  {
   "cell_type": "code",
   "execution_count": 3,
   "id": "676623fc",
   "metadata": {},
   "outputs": [],
   "source": [
    "# Euclideans algo to find greatest common divider\n",
    "def gcd(a,b):\n",
    "    while b:\n",
    "        a,b=b,a%b\n",
    "    return a"
   ]
  },
  {
   "cell_type": "code",
   "execution_count": 4,
   "id": "891e229d",
   "metadata": {},
   "outputs": [],
   "source": [
    "\n",
    "def power(a,d,n):\n",
    "    res=1\n",
    "    a=a%n\n",
    "    while d>0:\n",
    "        if d%2 == 1:\n",
    "            res=(res*a)%n\n",
    "        a=(a*a)%n\n",
    "        d//=2\n",
    "    return res"
   ]
  },
  {
   "cell_type": "code",
   "execution_count": 9,
   "id": "8c46ce3e",
   "metadata": {},
   "outputs": [],
   "source": [
    "# Quantum phase estimation algorithm\n",
    "def qpe(a,N,qubits_num):\n",
    "    qpe_circuit=QuantumCircuit(qubits_num+int(np.ceil(np.log2(N))),qubits_num)\n",
    "    count_qubits=qpe_circuit.qubits[:qubits_num]\n",
    "    target_qubits=qpe_circuit.qubits[qubits_num:]\n",
    "    \n",
    "    # Initialize target qubits to |1>\n",
    "    qpe_circuit.x(target_qubits[0])\n",
    "    \n",
    "    # apply hardmard gate\n",
    "    qpe_circuit.h(count_qubits)\n",
    "    \n",
    "    for i in range(qubits_num):\n",
    "        controlled_u=QuantumCircuit(int(np.ceil(np.log2(N))),name=f\"U_a^{2**i}\")\n",
    "        for _ in range(2**i):\n",
    "            \n",
    "            def c_amod15(a,power):\n",
    "                if a not in [2,7,8,11,13]:\n",
    "                    raise ValueError(\"A must be in [2,7,8,11,13]\")\n",
    "                u = QuantumCircuit(4)\n",
    "                for iteration in range(power):\n",
    "                    if a in [2,13]:\n",
    "                        u.swap(0,1)\n",
    "                        u.swap(1,2)\n",
    "                        u.swap(2,3)\n",
    "                    if a in [7,8]:\n",
    "                        u.swap(3,2)\n",
    "                        u.swap(2,1)\n",
    "                        u.swap(1,0)\n",
    "                    if a==11:\n",
    "                        u.swap(1,3)\n",
    "                        u.swap(0,2)\n",
    "                    if a==7:\n",
    "                        for q in range(4):\n",
    "                            u.z(q)\n",
    "                u=u.control(1)\n",
    "                return u\n",
    "            num_target_bits=int(np.ceil(np.log2(N)))\n",
    "            if N==15:\n",
    "                controlled_u=c_amod15(a,1)\n",
    "                qpe_circuit.append(controlled_u,[count_qubits[i]]+target_qubits[:4])\n",
    "            else :\n",
    "                pass\n",
    "    iqft=QFT(qubits_num,inverse=True)\n",
    "    qpe_circuit.compose(iqft,count_qubits,inplace=True)\n",
    "    qpe_circuit.measure(count_qubits,range(qubits_num))\n",
    "    return qpe_circuit"
   ]
  },
  {
   "cell_type": "code",
   "execution_count": 17,
   "id": "839cc9aa",
   "metadata": {},
   "outputs": [],
   "source": [
    "def count(circuit):\n",
    "    simulator=AerSimulator()\n",
    "    compiled_circuit=transpile(circuit,simulator)\n",
    "    job=simulator.run(compiled_circuit,shots=1024)\n",
    "    result=job.result()\n",
    "    counts=result.get_counts()\n",
    "    return counts"
   ]
  },
  {
   "cell_type": "code",
   "execution_count": 21,
   "id": "b50b63f0",
   "metadata": {},
   "outputs": [],
   "source": [
    "# Shors Algorithm\n",
    "def shors(N,qubits_num=8):\n",
    "    if N % 2==0:\n",
    "        return 2\n",
    "    \n",
    "    a=np.random.randint(2,N)\n",
    "    g=gcd(a,N)\n",
    "    if g>1:\n",
    "        return g\n",
    "    try_limit=10\n",
    "    \n",
    "    for _ in range(try_limit):\n",
    "        qpe_circuit=qpe(a,N,qubits_num)\n",
    "        counts=count(qpe_circuit)\n",
    "        if not counts:\n",
    "            continue\n",
    "        most_freq_outcome=max(counts,key=counts.get)\n",
    "        phase=int(most_freq_outcome,2)/(2**qubits_num)\n",
    "        fraction=Fraction(phase).limit_denominator(N)\n",
    "        r=fraction.denominator\n",
    "        \n",
    "        if r>0 and power(a,r,N)==1:\n",
    "            if r%2==0:\n",
    "                x=power(a,r//2,N)\n",
    "                factor1=gcd(x-1,N)\n",
    "                factor2=gcd(x+1,N)\n",
    "                \n",
    "                if 1< factor1<N and 1< factor2<N and factor1*factor2==N:\n",
    "                    return factor1,factor2\n",
    "                elif 1<factor2<N:\n",
    "                    return factor1\n",
    "                elif 1<factor2<N:\n",
    "                    return factor2\n",
    "        return None"
   ]
  },
  {
   "cell_type": "code",
   "execution_count": 63,
   "id": "3687cc7c",
   "metadata": {},
   "outputs": [
    {
     "name": "stdout",
     "output_type": "stream",
     "text": [
      "Factor :  (3, 5)\n"
     ]
    }
   ],
   "source": [
    "N=15\n",
    "factors=shors(N,qubits_num=7)\n",
    "print(\"Factor : \",factors)"
   ]
  },
  {
   "cell_type": "code",
   "execution_count": null,
   "id": "71da8d73",
   "metadata": {},
   "outputs": [],
   "source": []
  },
  {
   "cell_type": "code",
   "execution_count": null,
   "id": "7ab543ae",
   "metadata": {},
   "outputs": [],
   "source": []
  }
 ],
 "metadata": {
  "kernelspec": {
   "display_name": "Naitika",
   "language": "python",
   "name": "python3"
  },
  "language_info": {
   "codemirror_mode": {
    "name": "ipython",
    "version": 3
   },
   "file_extension": ".py",
   "mimetype": "text/x-python",
   "name": "python",
   "nbconvert_exporter": "python",
   "pygments_lexer": "ipython3",
   "version": "3.13.2"
  }
 },
 "nbformat": 4,
 "nbformat_minor": 5
}
