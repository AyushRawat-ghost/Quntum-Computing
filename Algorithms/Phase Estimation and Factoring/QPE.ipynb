{
 "cells": [
  {
   "cell_type": "code",
   "execution_count": null,
   "id": "587b8090",
   "metadata": {},
   "outputs": [],
   "source": [
    "# problem : need to find vibe shift theta of unitary on one of its 'chill' eigenvector\n",
    "#\n",
    "# 1.bring counting/extra bits and initialize to zero state\n",
    "#  Initial stage : ∣0⟩⊗t∣ψ⟩\n",
    "#\n",
    "# 2.Applying hadamard gate to each counting bits\n",
    "#\n",
    "# 3.Apllying controlled version of unitary operator to eigenvectors\n",
    "# If the first counting qubit is ∣1⟩, we apply U \n",
    "#  If the first counting qubit is ∣1⟩, we apply U raised to 2 raised to 0 = U once to ∣ψ⟩\n",
    "# If the second counting qubit is ∣1⟩, we apply U raised to 2 raised to 1=U raised to 2 once to ∣ψ⟩.\n",
    "# If the third counting qubit is ∣1⟩, we apply U raised to 2 raised to 2=U raised to 4 once to ∣ψ⟩. ... and so on, up to the t-th counting qubit controlling U raised to 2 raised to t−1\n",
    "\n",
    "# 4. Decoding the theta as its in scramble form using IQFT a reverse freqency analysis operations\n"
   ]
  },
  {
   "cell_type": "code",
   "execution_count": null,
   "id": "24d722cd",
   "metadata": {},
   "outputs": [],
   "source": [
    "import numpy as np\n",
    "from qiskit import QuantumCircuit, QuantumRegister, ClassicalRegister\n",
    "from qiskit_aer import AerSimulator\n",
    "from qiskit import transpile\n",
    "from qiskit.circuit.library import QFT"
   ]
  },
  {
   "cell_type": "code",
   "execution_count": 9,
   "id": "8a6907fd",
   "metadata": {},
   "outputs": [],
   "source": [
    "def qpe(uni_op,eigen,num_qubits):\n",
    "    \n",
    "    # Intialized the Quantum circuits\n",
    "    qpe_circuit=QuantumCircuit(num_qubits+eigen.num_qubits,num_qubits)\n",
    "    counting_qubits=qpe_circuit.qubits[:num_qubits]\n",
    "    eigenvector_qubits=qpe_circuit.qubits[num_qubits:]\n",
    "    classical_bits=qpe_circuit.clbits\n",
    "    \n",
    "    # prepare the eigenvectors\n",
    "    qpe_circuit.compose(eigen,eigenvector_qubits,inplace=True)\n",
    "    \n",
    "    #  apply Hadamard Gate to counting bits\n",
    "    qpe_circuit.h(counting_qubits)\n",
    "    \n",
    "    # apply controlles power of unitary op\n",
    "    for i in range(num_qubits):\n",
    "        controlled_u=uni_op.control(1)\n",
    "        power=2**i\n",
    "        for _ in range(power):\n",
    "            qpe_circuit.append(controlled_u,[counting_qubits[i]]+eigenvector_qubits)\n",
    "    \n",
    "    # Aplly inverse Quantum Fourier Analysis\n",
    "    iqft= QFT(num_qubits,inverse=True)\n",
    "    qpe_circuit.compose(iqft,counting_qubits,inplace=True)\n",
    "    \n",
    "    # Measure the counting qubits\n",
    "    qpe_circuit.measure(counting_qubits,classical_bits)\n",
    "    \n",
    "    return qpe_circuit"
   ]
  },
  {
   "cell_type": "code",
   "execution_count": null,
   "id": "df9313f4",
   "metadata": {},
   "outputs": [],
   "source": [
    "def counts(circuit):\n",
    "    simulator=AerSimulator()\n",
    "    compiled_circuit=transpile(circuit,simulator)\n",
    "    job=simulator.run(compiled_circuit,shots=1024)\n",
    "    result=job.result()\n",
    "    counts=result.get_counts()\n",
    "    return counts"
   ]
  },
  {
   "cell_type": "code",
   "execution_count": 18,
   "id": "cdfbae2d",
   "metadata": {},
   "outputs": [],
   "source": [
    "# Example : estimating phase of Z gate\n",
    "count_bits_num=5\n",
    "\n",
    "# Unitary operation\n",
    "unitary_op=QuantumCircuit(1,name='U')\n",
    "unitary_op.z(0)\n",
    "\n",
    "# EigenVector\n",
    "eigenvec = QuantumCircuit(1,name='psi')\n",
    "eigenvec.x(0)\n",
    "\n",
    "qpe_circuit=qpe(unitary_op,eigenvec,count_bits_num)\n",
    "\n"
   ]
  },
  {
   "cell_type": "code",
   "execution_count": null,
   "id": "a44f0905",
   "metadata": {},
   "outputs": [
    {
     "name": "stdout",
     "output_type": "stream",
     "text": [
      "Measurement :  {'10000': 10000}\n",
      "Estimated phase (theta): 0.5\n",
      "True phase (theta for Z on |1>): 0.5\n"
     ]
    }
   ],
   "source": [
    "# simulate the circuit\n",
    "result=counts(qpe_circuit)\n",
    "print(\"Measurement : \",result)\n",
    "\n",
    "#Result interpretation\n",
    "estimated_phase=0\n",
    "max=0\n",
    "for output,count in result.items():\n",
    "    if count > max:\n",
    "        max=count\n",
    "        measured_int=int(output,2)\n",
    "        estimated_phase=measured_int/(2**count_bits_num)\n",
    "\n",
    "print(f\"Estimated phase (theta): {estimated_phase}\")\n",
    "print(f\"True phase (theta for Z on |1>): 0.5\")"
   ]
  },
  {
   "cell_type": "code",
   "execution_count": 21,
   "id": "3e8cb8c9",
   "metadata": {},
   "outputs": [],
   "source": [
    "# Example : estimating phase of Z gate\n",
    "count_bits_num=4\n",
    "\n",
    "# Unitary operation\n",
    "unitary_op=QuantumCircuit(1,name='U')\n",
    "unitary_op.t(0)\n",
    "\n",
    "# EigenVector\n",
    "eigenvec = QuantumCircuit(1,name='psi')\n",
    "eigenvec.x(0)\n",
    "\n",
    "qpe_circuit=qpe(unitary_op,eigenvec,count_bits_num)\n",
    "\n"
   ]
  },
  {
   "cell_type": "code",
   "execution_count": 23,
   "id": "671f10a4",
   "metadata": {},
   "outputs": [
    {
     "name": "stdout",
     "output_type": "stream",
     "text": [
      "Measurement :  {'0010': 10000}\n",
      "Estimated phase (theta): 0.125\n",
      "True phase (theta for T on |1>): 0.125\n"
     ]
    }
   ],
   "source": [
    "# simulate the circuit\n",
    "result=counts(qpe_circuit)\n",
    "print(\"Measurement : \",result)\n",
    "\n",
    "#Result interpretation\n",
    "estimated_phase=0\n",
    "max=0\n",
    "for output,count in result.items():\n",
    "    if count > max:\n",
    "        max=count\n",
    "        measured_int=int(output,2)\n",
    "        estimated_phase=measured_int/(2**count_bits_num)\n",
    "        \n",
    "print(f\"Estimated phase (theta): {estimated_phase}\")\n",
    "print(f\"True phase (theta for T on |1>): 0.125\")"
   ]
  }
 ],
 "metadata": {
  "kernelspec": {
   "display_name": "Naitika",
   "language": "python",
   "name": "python3"
  },
  "language_info": {
   "codemirror_mode": {
    "name": "ipython",
    "version": 3
   },
   "file_extension": ".py",
   "mimetype": "text/x-python",
   "name": "python",
   "nbconvert_exporter": "python",
   "pygments_lexer": "ipython3",
   "version": "3.13.2"
  }
 },
 "nbformat": 4,
 "nbformat_minor": 5
}
