{
 "cells": [
  {
   "cell_type": "code",
   "execution_count": 31,
   "id": "bfdbb1e3",
   "metadata": {},
   "outputs": [],
   "source": [
    "#######3 importing modules\n",
    "\n",
    "from qiskit import QuantumCircuit,transpile\n",
    "from qiskit.circuit.library import CSwapGate\n",
    "from qiskit.providers.basic_provider import BasicSimulator\n",
    "import numpy as np\n",
    "from qiskit.visualization import circuit_drawer\n",
    "\n",
    "# \n",
    "def barriage(qc):\n",
    "    qc.barrier()\n",
    "\n",
    "\n",
    "def get_counts(qc):\n",
    "    simulator=BasicSimulator()\n",
    "    compiled_circuit=transpile(qc,simulator)\n",
    "    job=simulator.run(compiled_circuit,shots=2000)\n",
    "    result=job.result()\n",
    "    counts=result.get_counts(qc)\n",
    "    return counts\n",
    "\n",
    "def print_result(circuit,qc):\n",
    "    print(f\"Quantum Circuit with the gate {circuit}\")\n",
    "    barriage(qc)\n",
    "    print(qc)\n",
    "    count=get_counts(qc)\n",
    "    print(\"Count : \",count)\n",
    "\n",
    "def final(gate_func,qubit_num,gate_name,control_bit=None,target_bit=None,params=None):\n",
    "    qc=QuantumCircuit(qubit_num,qubit_num)\n",
    "    qc.x(0)\n",
    "    qc.x(1)\n",
    "    if control_bit is not None and target_bit is not None:\n",
    "        if params is not None:\n",
    "            # fro gates that takes angle or degrees, control and target bits\n",
    "            gate_func(qc,*params, *control_bit, *target_bit)\n",
    "        else:\n",
    "            # Gates take control and target bit\n",
    "            gate_func(qc,*control_bit, *target_bit)\n",
    "    elif target_bit is not None:\n",
    "        if params is not None:\n",
    "            # gate takes target bits\n",
    "            gate_func(qc,*params, *target_bit)\n",
    "        else:\n",
    "            gate_func(qc,*target_bit)\n",
    "    elif control_bit is not None:\n",
    "        # Gates that take only control bits\n",
    "        gate_func(*control_bit)\n",
    "    else:\n",
    "        # Single qubit gates\n",
    "        gate_func(qc)\n",
    "\n",
    "    qc.measure(range(qubit_num),range(qubit_num))\n",
    "    print_result(gate_name,qc)"
   ]
  },
  {
   "cell_type": "code",
   "execution_count": null,
   "id": "45dbaa1b",
   "metadata": {},
   "outputs": [],
   "source": []
  },
  {
   "cell_type": "code",
   "execution_count": 6,
   "id": "c2677033",
   "metadata": {},
   "outputs": [
    {
     "name": "stdout",
     "output_type": "stream",
     "text": [
      "Quantum Circuit with the gate Controlled-Not Gate\n",
      "     ┌───┐┌───┐┌─┐    ░ \n",
      "q_0: ┤ X ├┤ X ├┤M├────░─\n",
      "     └───┘└─┬─┘└╥┘┌─┐ ░ \n",
      "q_1: ───────■───╫─┤M├─░─\n",
      "                ║ └╥┘ ░ \n",
      "c: 2/═══════════╩══╩════\n",
      "                0  1    \n",
      "Count :  {'01': 2000}\n"
     ]
    }
   ],
   "source": [
    "#### Controlled Not gate\n",
    "final(QuantumCircuit.cx,2,\"Controlled-Not Gate\",control_bit=[1],target_bit=[0])\n"
   ]
  },
  {
   "cell_type": "code",
   "execution_count": 10,
   "id": "16c61bf8",
   "metadata": {},
   "outputs": [
    {
     "name": "stdout",
     "output_type": "stream",
     "text": [
      "Quantum Circuit with the gate Swap Gate\n",
      "     ┌───┐   ┌─┐    ░ \n",
      "q_0: ┤ X ├─X─┤M├────░─\n",
      "     └───┘ │ └╥┘┌─┐ ░ \n",
      "q_1: ──────X──╫─┤M├─░─\n",
      "              ║ └╥┘ ░ \n",
      "c: 2/═════════╩══╩════\n",
      "              0  1    \n",
      "Count :  {'10': 2000}\n"
     ]
    }
   ],
   "source": [
    "###### Swap Gate\n",
    "final(QuantumCircuit.swap,2,\"Swap Gate\",target_bit=[0,1])"
   ]
  },
  {
   "cell_type": "code",
   "execution_count": 12,
   "id": "6ef0700a",
   "metadata": {},
   "outputs": [
    {
     "name": "stdout",
     "output_type": "stream",
     "text": [
      "Quantum Circuit with the gate Controlled-Z gate\n",
      "     ┌───┐   ┌─┐    ░ \n",
      "q_0: ┤ X ├─■─┤M├────░─\n",
      "     └───┘ │ └╥┘┌─┐ ░ \n",
      "q_1: ──────■──╫─┤M├─░─\n",
      "              ║ └╥┘ ░ \n",
      "c: 2/═════════╩══╩════\n",
      "              0  1    \n",
      "Count :  {'01': 2000}\n"
     ]
    }
   ],
   "source": [
    "###### Controlled-z gate\n",
    "final(QuantumCircuit.cz,2,\"Controlled-Z gate\",control_bit=[0],target_bit=[1])"
   ]
  },
  {
   "cell_type": "code",
   "execution_count": 17,
   "id": "ed6f65eb",
   "metadata": {},
   "outputs": [
    {
     "name": "stdout",
     "output_type": "stream",
     "text": [
      "Quantum Circuit with the gate Controlled phase Gate\n",
      "     ┌───┐         ┌─┐    ░ \n",
      "q_0: ┤ X ├─■───────┤M├────░─\n",
      "     └───┘ │P(π/4) └╥┘┌─┐ ░ \n",
      "q_1: ──────■────────╫─┤M├─░─\n",
      "                    ║ └╥┘ ░ \n",
      "c: 2/═══════════════╩══╩════\n",
      "                    0  1    \n",
      "Count :  {'01': 2000}\n"
     ]
    }
   ],
   "source": [
    "####### controlled phase gate\n",
    "final(QuantumCircuit.cp,2,\"Controlled phase Gate\",control_bit=[1],target_bit=[0],params=[np.pi/4])"
   ]
  },
  {
   "cell_type": "code",
   "execution_count": 27,
   "id": "16143c73",
   "metadata": {},
   "outputs": [
    {
     "name": "stdout",
     "output_type": "stream",
     "text": [
      "Quantum Circuit with the gate Toffoi Gate\n",
      "     ┌───┐┌───┐┌─┐       ░ \n",
      "q_0: ┤ X ├┤ X ├┤M├───────░─\n",
      "     ├───┤└─┬─┘└╥┘┌─┐    ░ \n",
      "q_1: ┤ X ├──■───╫─┤M├────░─\n",
      "     └───┘  │   ║ └╥┘┌─┐ ░ \n",
      "q_2: ───────■───╫──╫─┤M├─░─\n",
      "                ║  ║ └╥┘ ░ \n",
      "c: 3/═══════════╩══╩══╩════\n",
      "                0  1  2    \n",
      "Count :  {'011': 2000}\n"
     ]
    }
   ],
   "source": [
    "########Toffoi gate\n",
    "final(QuantumCircuit.ccx,3,\"Toffoi Gate\",control_bit=[1,2],target_bit=[0])"
   ]
  },
  {
   "cell_type": "code",
   "execution_count": 33,
   "id": "7cf4563a",
   "metadata": {},
   "outputs": [
    {
     "name": "stdout",
     "output_type": "stream",
     "text": [
      "Quantum Circuit with the gate Fredkin Gate\n",
      "     ┌───┐   ┌─┐       ░ \n",
      "q_0: ┤ X ├─X─┤M├───────░─\n",
      "     ├───┤ │ └╥┘┌─┐    ░ \n",
      "q_1: ┤ X ├─■──╫─┤M├────░─\n",
      "     └───┘ │  ║ └╥┘┌─┐ ░ \n",
      "q_2: ──────X──╫──╫─┤M├─░─\n",
      "              ║  ║ └╥┘ ░ \n",
      "c: 3/═════════╩══╩══╩════\n",
      "              0  1  2    \n",
      "Count :  {'110': 2000}\n"
     ]
    }
   ],
   "source": [
    "######### Fredkin gate\n",
    "cswap_gate_func = lambda qc, control, target1, target2: qc.append(CSwapGate(), [control, target1, target2])\n",
    "final(cswap_gate_func, 3, \"Fredkin Gate\", control_bit=[1], target_bit=[0, 2])"
   ]
  },
  {
   "cell_type": "code",
   "execution_count": null,
   "id": "6c3c87fc",
   "metadata": {},
   "outputs": [
    {
     "name": "stdout",
     "output_type": "stream",
     "text": [
      "Quantum Circuit with the gate All in \n",
      "     ┌───┐                                  ░                             ┌─┐»\n",
      "q_0: ┤ H ├──────────────────────────────────░───■───X──■──■─────────■───■─┤M├»\n",
      "     ├───┤   ┌───┐      ┌───┐   ┌─────────┐ ░ ┌─┴─┐ │  │  │P(π/4)   │   │ └╥┘»\n",
      "q_1: ┤ X ├───┤ Y ├──────┤ S ├───┤ Ry(π/2) ├─░─┤ X ├─┼──■──■─────────■───X──╫─»\n",
      "     ├───┤┌──┴───┴──┐┌──┴───┴──┐└─────────┘ ░ └───┘ │             ┌─┴─┐ │  ║ »\n",
      "q_2: ┤ T ├┤ Rx(π/2) ├┤ Rz(π/2) ├────────────░───────X─────────────┤ X ├─X──╫─»\n",
      "     └───┘└─────────┘└─────────┘            ░                     └───┘    ║ »\n",
      "c: 3/══════════════════════════════════════════════════════════════════════╩═»\n",
      "                                                                           0 »\n",
      "«            ░ \n",
      "«q_0: ───────░─\n",
      "«     ┌─┐    ░ \n",
      "«q_1: ┤M├────░─\n",
      "«     └╥┘┌─┐ ░ \n",
      "«q_2: ─╫─┤M├─░─\n",
      "«      ║ └╥┘ ░ \n",
      "«c: 3/═╩══╩════\n",
      "«      1  2    \n",
      "Count :  {'100': 288, '110': 225, '010': 252, '011': 252, '101': 278, '111': 250, '001': 220, '000': 235}\n"
     ]
    }
   ],
   "source": [
    "qc=QuantumCircuit(3,3)\n",
    "\n",
    "qc.h(0)\n",
    "qc.x(1)\n",
    "qc.y(1)\n",
    "qc.z(2)\n",
    "qc.s(1)\n",
    "qc.t(2)\n",
    "qc.rx(np.pi/2, 2)\n",
    "qc.ry(np.pi/2, 1)\n",
    "qc.rz(np.pi/2, 2)\n",
    "\n",
    "qc.barrier()\n",
    "qc.cx(0, 1)\n",
    "qc.swap(0, 2)\n",
    "qc.cz(0, 1)\n",
    "qc.cp(np.pi/4, 0, 1)\n",
    "qc.ccx(0, 1, 2)\n",
    "cswap_gate = CSwapGate()\n",
    "qc.append(cswap_gate, [0, 1, 2])\n",
    "\n",
    "qc.measure([0,1,2],[0,1,2])\n",
    "print_result(\"All in \",qc)\n"
   ]
  }
 ],
 "metadata": {
  "kernelspec": {
   "display_name": "Naitika",
   "language": "python",
   "name": "python3"
  },
  "language_info": {
   "codemirror_mode": {
    "name": "ipython",
    "version": 3
   },
   "file_extension": ".py",
   "mimetype": "text/x-python",
   "name": "python",
   "nbconvert_exporter": "python",
   "pygments_lexer": "ipython3",
   "version": "3.13.2"
  }
 },
 "nbformat": 4,
 "nbformat_minor": 5
}
