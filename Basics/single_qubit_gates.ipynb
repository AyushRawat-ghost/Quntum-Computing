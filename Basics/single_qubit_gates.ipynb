{
 "cells": [
  {
   "cell_type": "code",
   "execution_count": 1,
   "metadata": {},
   "outputs": [],
   "source": [
    "from qiskit import QuantumCircuit,transpile\n",
    "from qiskit.providers.basic_provider import BasicSimulator\n",
    "\n",
    "\n",
    "def counts(circuit):\n",
    "    simulator=BasicSimulator()\n",
    "    compiled_circuit=transpile(circuit,simulator)\n",
    "    job=simulator.run(compiled_circuit,shots=10000)\n",
    "    result=job.result()\n",
    "    counts=result.get_counts(circuit)\n",
    "    return counts\n",
    "\n",
    "def print_result(circuit,counts):\n",
    "    print(\"Quantum Circuit : \",circuit)\n",
    "    print(\"\\nSimulation Results : \\nCounts\",counts)"
   ]
  },
  {
   "cell_type": "code",
   "execution_count": 9,
   "metadata": {},
   "outputs": [
    {
     "name": "stdout",
     "output_type": "stream",
     "text": [
      "Quantum Circuit :       ┌───┐┌─┐\n",
      "  q: ┤ H ├┤M├\n",
      "     └───┘└╥┘\n",
      "c: 1/══════╩═\n",
      "           0 \n",
      "\n",
      "Simulation Results : \n",
      "Counts {'1': 4898, '0': 5102}\n"
     ]
    }
   ],
   "source": [
    "###### Quantum circuit and Hadamard gate\n",
    "\n",
    "# 1 qubit and 1 classic bit\n",
    "qc=QuantumCircuit(1,1)\n",
    "\n",
    "# Apply Hadamard gate to put the qubit in superposition\n",
    "qc.h(0)\n",
    "\n",
    "# Measure the qubit\n",
    "qc.measure(0,0)\n",
    "\n",
    "count=counts(qc)\n",
    "print_result(qc,count)"
   ]
  },
  {
   "cell_type": "code",
   "execution_count": null,
   "metadata": {},
   "outputs": [
    {
     "name": "stdout",
     "output_type": "stream",
     "text": [
      "Quantum Circuit with Pauli-X on both quibits :       ┌───┐┌─┐   \n",
      "q_0: ┤ H ├┤M├───\n",
      "     ├───┤└╥┘┌─┐\n",
      "q_1: ┤ H ├─╫─┤M├\n",
      "     └───┘ ║ └╥┘\n",
      "c: 2/══════╩══╩═\n",
      "           0  1 \n",
      "\n",
      "Simulation Results : \n",
      "Counts {'00': 492, '01': 543, '11': 516, '10': 449}\n"
     ]
    }
   ],
   "source": [
    "#### Quantum circuit and Hadamand Gate\n",
    "#using 2 classic bit and quantum bit\n",
    "qc=QuantumCircuit(2,2)\n",
    "\n",
    "# Apply Pauli-X gate to the both qubit\n",
    "qc.h(0)\n",
    "qc.h(1)\n",
    "\n",
    "#measure the quibit\n",
    "qc.measure(0,0)\n",
    "qc.measure(1,1)\n",
    "\n",
    "\n",
    "count=counts(qc)\n",
    "print_result(qc,count)\n"
   ]
  },
  {
   "cell_type": "code",
   "execution_count": null,
   "metadata": {},
   "outputs": [
    {
     "name": "stdout",
     "output_type": "stream",
     "text": [
      "Quantum Circuit :       ┌───┐┌─┐\n",
      "  q: ┤ X ├┤M├\n",
      "     └───┘└╥┘\n",
      "c: 1/══════╩═\n",
      "           0 \n",
      "\n",
      "Simulation Results : \n",
      "Counts {'1': 10000}\n"
     ]
    }
   ],
   "source": [
    "###### Quantum circuit and Pauli-X Gate\n",
    "\n",
    "# 1 qubit and 1 classic bit\n",
    "qc=QuantumCircuit(1,1)\n",
    "\n",
    "# Apply Hadamard gate to put the qubit in superposition\n",
    "qc.x(0)\n",
    "\n",
    "# Measure the qubit\n",
    "qc.measure(0,0)\n",
    "\n",
    "\n",
    "count=counts(qc)\n",
    "print_result(qc,count)"
   ]
  },
  {
   "cell_type": "code",
   "execution_count": null,
   "metadata": {},
   "outputs": [
    {
     "name": "stdout",
     "output_type": "stream",
     "text": [
      "Quantum Circuit :       ┌───┐┌─┐   \n",
      "q_0: ┤ H ├┤M├───\n",
      "     ├───┤└╥┘┌─┐\n",
      "q_1: ┤ H ├─╫─┤M├\n",
      "     └───┘ ║ └╥┘\n",
      "c: 2/══════╩══╩═\n",
      "           0  1 \n",
      "\n",
      "Simulation Results : \n",
      "Counts {'11': 1240, '10': 1217, '01': 1211, '00': 1332}\n"
     ]
    }
   ],
   "source": [
    "#### Applying Hadamard to Both Qubits\n",
    "qc=QuantumCircuit(2,2)\n",
    "qc.h(0)\n",
    "qc.h(1)\n",
    "\n",
    "#Measuring both qubits\n",
    "qc.measure([0,1],[0,1])\n",
    "\n",
    "\n",
    "count=counts(qc)\n",
    "print_result(qc,count)\n",
    "\n"
   ]
  },
  {
   "cell_type": "code",
   "execution_count": null,
   "metadata": {},
   "outputs": [
    {
     "name": "stdout",
     "output_type": "stream",
     "text": [
      "Quantum Circuit :       ┌───┐┌─┐   \n",
      "q_0: ┤ X ├┤M├───\n",
      "     ├───┤└╥┘┌─┐\n",
      "q_1: ┤ X ├─╫─┤M├\n",
      "     └───┘ ║ └╥┘\n",
      "c: 2/══════╩══╩═\n",
      "           0  1 \n",
      "\n",
      "Simulation Results : \n",
      "Counts {'11': 10000}\n"
     ]
    }
   ],
   "source": [
    "#### Applying Pauli-X to Both Qubits\n",
    "qc=QuantumCircuit(2,2)\n",
    "qc.x(0)\n",
    "qc.x(1)\n",
    "\n",
    "#Measuring both qubits\n",
    "qc.measure([0,1],[0,1])\n",
    "\n",
    "count=counts(qc)\n",
    "print_result(qc,count)\n",
    "\n"
   ]
  },
  {
   "cell_type": "code",
   "execution_count": null,
   "metadata": {},
   "outputs": [
    {
     "name": "stdout",
     "output_type": "stream",
     "text": [
      "Quantum Circuit :       ┌───┐┌─┐   \n",
      "q_0: ┤ X ├┤M├───\n",
      "     ├───┤└╥┘┌─┐\n",
      "q_1: ┤ H ├─╫─┤M├\n",
      "     └───┘ ║ └╥┘\n",
      "c: 2/══════╩══╩═\n",
      "           0  1 \n",
      "\n",
      "Simulation Results : \n",
      "Counts {'01': 5001751, '11': 4998249}\n"
     ]
    }
   ],
   "source": [
    "####### Applying both gates\n",
    "qc=QuantumCircuit(2,2)\n",
    "\n",
    "qc.x(0)\n",
    "qc.h(1)\n",
    "\n",
    "qc.measure([0,1],[0,1])\n",
    "\n",
    "count=counts(qc)\n",
    "print_result(qc,count)"
   ]
  },
  {
   "cell_type": "code",
   "execution_count": null,
   "metadata": {},
   "outputs": [
    {
     "name": "stdout",
     "output_type": "stream",
     "text": [
      "Quantum Circuit :       ┌───┐     ┌─┐   \n",
      "q_0: ┤ H ├──■──┤M├───\n",
      "     └───┘┌─┴─┐└╥┘┌─┐\n",
      "q_1: ─────┤ X ├─╫─┤M├\n",
      "          └───┘ ║ └╥┘\n",
      "c: 2/═══════════╩══╩═\n",
      "                0  1 \n",
      "\n",
      "Simulation Results : \n",
      "Counts {'00': 4966, '11': 5034}\n"
     ]
    }
   ],
   "source": [
    "###########  Two qubit Entangled State\n",
    "\n",
    "qc=QuantumCircuit(2,2)\n",
    "\n",
    "qc.h(0)\n",
    "qc.cx(0,1)\n",
    "qc.measure([0,1],[0,1])\n",
    "\n",
    "\n",
    "count=counts(qc)\n",
    "print_result(qc,count)\n",
    "\n"
   ]
  },
  {
   "cell_type": "code",
   "execution_count": null,
   "metadata": {},
   "outputs": [
    {
     "name": "stdout",
     "output_type": "stream",
     "text": [
      "Quantum Circuit :       ┌───┐┌─┐      \n",
      "q_0: ┤ Y ├┤M├──────\n",
      "     ├───┤└╥┘┌─┐   \n",
      "q_1: ┤ Z ├─╫─┤M├───\n",
      "     ├───┤ ║ └╥┘┌─┐\n",
      "q_2: ┤ X ├─╫──╫─┤M├\n",
      "     └───┘ ║  ║ └╥┘\n",
      "c: 3/══════╩══╩══╩═\n",
      "           2  1  0 \n",
      "\n",
      "Simulation Results : \n",
      "Counts {'101': 10000}\n"
     ]
    }
   ],
   "source": [
    "######## Pauli-x,y,z gate\n",
    "qc=QuantumCircuit(3,3)\n",
    "qc.y(0)\n",
    "qc.z(1)\n",
    "qc.x(2)\n",
    "qc.measure([0,1,2],[2,1,0])\n",
    "\n",
    "count=counts(qc)\n",
    "print_result(qc,count)\n"
   ]
  },
  {
   "cell_type": "code",
   "execution_count": null,
   "metadata": {},
   "outputs": [
    {
     "name": "stdout",
     "output_type": "stream",
     "text": [
      "Quantum Circuit :       ┌───┐┌─┐   \n",
      "q_0: ┤ S ├┤M├───\n",
      "     ├───┤└╥┘┌─┐\n",
      "q_1: ┤ T ├─╫─┤M├\n",
      "     └───┘ ║ └╥┘\n",
      "c: 2/══════╩══╩═\n",
      "           0  1 \n",
      "\n",
      "Simulation Results : \n",
      "Counts {'00': 10000}\n"
     ]
    }
   ],
   "source": [
    "####### Phase and Z gate\n",
    "qc=QuantumCircuit(2,2)\n",
    "qc.s(0)\n",
    "qc.t(1)\n",
    "qc.measure([0,1],[0,1])\n",
    "\n",
    "count=counts(qc)\n",
    "print_result(qc,count)\n",
    "\n",
    "\n"
   ]
  },
  {
   "cell_type": "code",
   "execution_count": 4,
   "metadata": {},
   "outputs": [
    {
     "name": "stdout",
     "output_type": "stream",
     "text": [
      "Quantum Circuit :       ┌────────┐┌─┐      \n",
      "q_0: ┤ Rx(90) ├┤M├──────\n",
      "     ├────────┤└╥┘┌─┐   \n",
      "q_1: ┤ Ry(90) ├─╫─┤M├───\n",
      "     ├────────┤ ║ └╥┘┌─┐\n",
      "q_2: ┤ Rz(90) ├─╫──╫─┤M├\n",
      "     └────────┘ ║  ║ └╥┘\n",
      "c: 3/═══════════╩══╩══╩═\n",
      "                0  1  2 \n",
      "\n",
      "Simulation Results : \n",
      "Counts {'011': 5285, '010': 1976, '000': 774, '001': 1965}\n"
     ]
    }
   ],
   "source": [
    "########## Rotational Gates\n",
    "qc=QuantumCircuit(3,3)\n",
    "theta=90\n",
    "qc.rx(theta,0)\n",
    "qc.ry(theta,1)\n",
    "qc.rz(theta,2)\n",
    "qc.measure([0,1,2],[0,1,2])\n",
    "\n",
    "count=counts(qc)\n",
    "print_result(qc,count)\n"
   ]
  },
  {
   "cell_type": "code",
   "execution_count": 13,
   "metadata": {},
   "outputs": [
    {
     "name": "stdout",
     "output_type": "stream",
     "text": [
      "Quantum Circuit :         ┌───┐   ┌─┐                     \n",
      "q_0: ──┤ X ├───┤M├─────────────────────\n",
      "       ├───┤   └╥┘┌─┐                  \n",
      "q_1: ──┤ Y ├────╫─┤M├──────────────────\n",
      "       ├───┤    ║ └╥┘┌─┐               \n",
      "q_2: ──┤ Z ├────╫──╫─┤M├───────────────\n",
      "       ├───┤    ║  ║ └╥┘┌─┐            \n",
      "q_3: ──┤ S ├────╫──╫──╫─┤M├────────────\n",
      "       ├───┤    ║  ║  ║ └╥┘┌─┐         \n",
      "q_4: ──┤ T ├────╫──╫──╫──╫─┤M├─────────\n",
      "     ┌─┴───┴──┐ ║  ║  ║  ║ └╥┘┌─┐      \n",
      "q_5: ┤ Rx(45) ├─╫──╫──╫──╫──╫─┤M├──────\n",
      "     ├────────┤ ║  ║  ║  ║  ║ └╥┘┌─┐   \n",
      "q_6: ┤ Ry(45) ├─╫──╫──╫──╫──╫──╫─┤M├───\n",
      "     ├────────┤ ║  ║  ║  ║  ║  ║ └╥┘┌─┐\n",
      "q_7: ┤ Rz(45) ├─╫──╫──╫──╫──╫──╫──╫─┤M├\n",
      "     └────────┘ ║  ║  ║  ║  ║  ║  ║ └╥┘\n",
      "c: 8/═══════════╩══╩══╩══╩══╩══╩══╩══╩═\n",
      "                0  1  2  3  4  5  6  7 \n",
      "\n",
      "Simulation Results : \n",
      "Counts {'00000011': 5865, '01000011': 1830, '01100011': 545, '00100011': 1760}\n"
     ]
    }
   ],
   "source": [
    "######## All gates\n",
    "qc=QuantumCircuit(8,8)\n",
    "qc.x(0) # Pauli-x\n",
    "qc.y(1) # Pauli-y\n",
    "qc.z(2) # Pauli-z\n",
    "qc.s(3) # Phase gate\n",
    "qc.t(4) # T-Gate\n",
    "theta=45\n",
    "# Rotational gate x,y,z\n",
    "qc.rx(theta,5)\n",
    "qc.ry(theta,6)\n",
    "qc.rz(theta,7)\n",
    "\n",
    "qc.measure([0,1,2,3,4,5,6,7],[0,1,2,3,4,5,6,7])\n",
    "count=counts(qc)\n",
    "print_result(qc,counts(qc))"
   ]
  }
 ],
 "metadata": {
  "kernelspec": {
   "display_name": "Naitika",
   "language": "python",
   "name": "python3"
  },
  "language_info": {
   "codemirror_mode": {
    "name": "ipython",
    "version": 3
   },
   "file_extension": ".py",
   "mimetype": "text/x-python",
   "name": "python",
   "nbconvert_exporter": "python",
   "pygments_lexer": "ipython3",
   "version": "3.13.2"
  }
 },
 "nbformat": 4,
 "nbformat_minor": 2
}
